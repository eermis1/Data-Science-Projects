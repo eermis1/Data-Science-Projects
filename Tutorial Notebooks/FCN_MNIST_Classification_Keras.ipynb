{
  "nbformat": 4,
  "nbformat_minor": 0,
  "metadata": {
    "colab": {
      "name": "FCN_MNIST_Classification_Keras.ipynb",
      "provenance": [],
      "collapsed_sections": [],
      "authorship_tag": "ABX9TyMtSSvk5pIhUNfnjBNWkSuH",
      "include_colab_link": true
    },
    "kernelspec": {
      "name": "python3",
      "display_name": "Python 3"
    }
  },
  "cells": [
    {
      "cell_type": "markdown",
      "metadata": {
        "id": "view-in-github",
        "colab_type": "text"
      },
      "source": [
        "<a href=\"https://colab.research.google.com/github/eermis1/Data_Analytics/blob/master/Tutorial%20Notebooks/FCN_MNIST_Classification_Keras.ipynb\" target=\"_parent\"><img src=\"https://colab.research.google.com/assets/colab-badge.svg\" alt=\"Open In Colab\"/></a>"
      ]
    },
    {
      "cell_type": "markdown",
      "metadata": {
        "id": "vqS8OePBIy_o",
        "colab_type": "text"
      },
      "source": [
        "# **MNIST Image Classification With Keras**"
      ]
    },
    {
      "cell_type": "markdown",
      "metadata": {
        "id": "9lLBpjGvAohu",
        "colab_type": "text"
      },
      "source": [
        "## **1. Import Required Libraries**"
      ]
    },
    {
      "cell_type": "code",
      "metadata": {
        "id": "c9PbCXUx6rRG",
        "colab_type": "code",
        "outputId": "7f0a01e5-c9b7-45d7-e63f-fa857c820f79",
        "colab": {
          "base_uri": "https://localhost:8080/",
          "height": 51
        }
      },
      "source": [
        "%tensorflow_version 1.x\n",
        "import tensorflow as tf\n",
        "import numpy as np\n",
        "import pandas as pd\n",
        "import matplotlib.pyplot as plt\n",
        "print(tf.__version__)"
      ],
      "execution_count": 0,
      "outputs": [
        {
          "output_type": "stream",
          "text": [
            "TensorFlow 1.x selected.\n",
            "1.15.2\n"
          ],
          "name": "stdout"
        }
      ]
    },
    {
      "cell_type": "markdown",
      "metadata": {
        "id": "_oqatUvRA3r4",
        "colab_type": "text"
      },
      "source": [
        "## **2. Extract and Evaluate Data**"
      ]
    },
    {
      "cell_type": "code",
      "metadata": {
        "id": "ZwUAL75b9zi0",
        "colab_type": "code",
        "outputId": "086f7f10-d458-435d-ba00-e6db75e5a46a",
        "colab": {
          "base_uri": "https://localhost:8080/",
          "height": 51
        }
      },
      "source": [
        "# Exract (x_train, y_train) and (x_test, y_test) data from MNIST dataset.\n",
        "# Contrary to <tensorflow.examples.tutorials.mnist import input_data> the data does not contain (x_valid, y_valid)\n",
        "\n",
        "mnist = tf.keras.datasets.mnist\n",
        "(x_train, y_train), (x_test, y_test) = mnist.load_data()"
      ],
      "execution_count": 0,
      "outputs": [
        {
          "output_type": "stream",
          "text": [
            "Downloading data from https://storage.googleapis.com/tensorflow/tf-keras-datasets/mnist.npz\n",
            "11493376/11490434 [==============================] - 0s 0us/step\n"
          ],
          "name": "stdout"
        }
      ]
    },
    {
      "cell_type": "code",
      "metadata": {
        "id": "qJyBqv18_CJM",
        "colab_type": "code",
        "outputId": "bd8f5311-285b-4ddf-bb0f-080ef5d78969",
        "colab": {
          "base_uri": "https://localhost:8080/",
          "height": 187
        }
      },
      "source": [
        "# Evaluate dataset\n",
        "\n",
        "print(\"Shape of x_train =\" + \" \" + str(x_train.shape))\n",
        "print(\"Shape of x_test =\" + \" \" + str(x_test.shape))\n",
        "print(\".  --> Contrary to <tensorflow.examples.tutorials.mnist import input_data>, x_train and x_test are already in shape of 28x28\")\n",
        "print(\"\\n\" + \"Now, lets have a look at a particular data in training set\" +\"\\n\")\n",
        "#print(\"x_train[0]=\")\n",
        "#print(x_train[0])\n",
        "print(\"Max pixel data of x_train[0]=\" + \" \" + str(x_train[0].max()))\n",
        "print(\"Min pixel data of x_train[0]=\" + \" \" + str(x_train[0].min()))\n",
        "print(\".  --> As you seen as above, the pixel data is not in a range between 0 and 1 (grayscale)\")\n",
        "print(\".  --> To improve the the performance, make it easy to learn for network it is better to normalize them.\")\n",
        "\n"
      ],
      "execution_count": 0,
      "outputs": [
        {
          "output_type": "stream",
          "text": [
            "Shape of x_train = (60000, 28, 28)\n",
            "Shape of x_test = (10000, 28, 28)\n",
            ".  --> Contrary to <tensorflow.examples.tutorials.mnist import input_data>, x_train and x_test are already in shape of 28x28\n",
            "\n",
            "Now, lets have a look at a particular data in training set\n",
            "\n",
            "Max pixel data of x_train[0]= 255\n",
            "Min pixel data of x_train[0]= 0\n",
            ".  --> As you seen as above, the pixel data is not in a range between 0 and 1 (grayscale)\n",
            ".  --> To improve the the performance, make it easy to learn for network it is better to normalize them.\n"
          ],
          "name": "stdout"
        }
      ]
    },
    {
      "cell_type": "code",
      "metadata": {
        "id": "Je9Wp6DWDsw8",
        "colab_type": "code",
        "colab": {}
      },
      "source": [
        "# Normalization of x_train, x_test\n",
        "\n",
        "x_train = tf.keras.utils.normalize(x_train, axis=1)\n",
        "x_test = tf.keras.utils.normalize(x_test, axis=1)\n",
        "#x_train[0] Process is completed "
      ],
      "execution_count": 0,
      "outputs": []
    },
    {
      "cell_type": "code",
      "metadata": {
        "id": "sQIRZ-qEF9g4",
        "colab_type": "code",
        "outputId": "188c8154-173e-4355-ebaf-e5063acde37d",
        "colab": {
          "base_uri": "https://localhost:8080/",
          "height": 333
        }
      },
      "source": [
        "# What about labels, y_train and y_test ?\n",
        "print(\"Shape of y_train =\" + \" \" + str(y_train.shape))\n",
        "print(\"Shape of y_test =\" + \" \" + str(y_test.shape))\n",
        "print(\"Value of y_train[0] =\" + \" \" + str(y_train[0]))\n",
        "plt.imshow(x_train[0], cmap='gray')\n",
        "plt.show()\n",
        "print(\".  --> Shapes are align with x_train and x_test. Everything seems normal to proceed.\")\n"
      ],
      "execution_count": 0,
      "outputs": [
        {
          "output_type": "stream",
          "text": [
            "Shape of y_train = (60000,)\n",
            "Shape of y_test = (10000,)\n",
            "Value of y_train[0] = 5\n"
          ],
          "name": "stdout"
        },
        {
          "output_type": "display_data",
          "data": {
            "image/png": "[encoded data removed]",
            "text/plain": [
              "<Figure size 432x288 with 1 Axes>"
            ]
          },
          "metadata": {
            "tags": [],
            "needs_background": "light"
          }
        },
        {
          "output_type": "stream",
          "text": [
            ".  --> Shapes are align with x_train and x_test. Everything seems normal to proceed.\n"
          ],
          "name": "stdout"
        }
      ]
    },
    {
      "cell_type": "markdown",
      "metadata": {
        "id": "WEXKIFJXIY9j",
        "colab_type": "text"
      },
      "source": [
        "## **3. Building the First Model**"
      ]
    },
    {
      "cell_type": "code",
      "metadata": {
        "id": "7SyY0OfvITY1",
        "colab_type": "code",
        "colab": {}
      },
      "source": [
        "model = tf.keras.models.Sequential()\n",
        "\n",
        "# Input Layer\n",
        "model.add(tf.keras.layers.Flatten()) # Flatten 28*28 data to vector of 784\n",
        "\n",
        "# Hidden Layers\n",
        "model.add(tf.keras.layers.Dense(128, activation=tf.nn.relu)) # Number of noron = 128\n",
        "model.add(tf.keras.layers.Dense(128, activation=tf.nn.relu)) # Number of noron = 128\n",
        "\n",
        "# Output Layer\n",
        "# Number of noron = 10 to be able to have comparable data with the labels\n",
        "# Sofmax is used to detect the most possible data index easily with argmax.\n",
        "model.add(tf.keras.layers.Dense(10, activation=tf.nn.softmax)) # Number of noron = 10 to have a label layer\n",
        "\n",
        "\n",
        "# Parameter Selection for Training\n",
        "\n",
        "model.compile(optimzer = \"adam\", loss = \"sparse_categorical_crossentropy\", metrics = [\"accuracy\"])\n",
        "\n",
        "model.fit(x_train, y_train, epochs = 3)\n",
        "\n"
      ],
      "execution_count": 0,
      "outputs": []
    },
    {
      "cell_type": "code",
      "metadata": {
        "id": "AGasio8HM7ci",
        "colab_type": "code",
        "colab": {}
      },
      "source": [
        "# Lets evaluate the model on test data\n",
        "\n",
        "test_loss, test_accuracy = model.evaluate(x_test, y_test)\n",
        "print(\"Test Loss= \" + str(test_loss))\n",
        "print(\"Test Accuracy= \"+ str(test_accuracy))\n",
        "print(\"\\n\" + \".  --> Test Accuracy is also high, no overfitting. Everthing seems OK\")"
      ],
      "execution_count": 0,
      "outputs": []
    },
    {
      "cell_type": "markdown",
      "metadata": {
        "id": "k9WbaiPpQS8v",
        "colab_type": "text"
      },
      "source": [
        "## **4. Getting Predictions from the Model**"
      ]
    },
    {
      "cell_type": "code",
      "metadata": {
        "id": "CU1tNnFoQb5x",
        "colab_type": "code",
        "colab": {}
      },
      "source": [
        "predictions = model.predict([x_test]) # Predicts y values of every x_test data"
      ],
      "execution_count": 0,
      "outputs": []
    },
    {
      "cell_type": "code",
      "metadata": {
        "id": "vdhtFKPAReKa",
        "colab_type": "code",
        "colab": {}
      },
      "source": [
        "print(predictions[0])\n",
        "print(\"\\n\" + \".  --> Seems very complicated, lets have a look with a different approach\")"
      ],
      "execution_count": 0,
      "outputs": []
    },
    {
      "cell_type": "code",
      "metadata": {
        "id": "y6qBWJnsRi6_",
        "colab_type": "code",
        "colab": {}
      },
      "source": [
        "print(\"The predicted value of x_test[0] is=\" + \" \" + str(np.argmax(predictions[0])))\n",
        "print(\"\\n\" + \".  --> Argmax returns the largest value's index which is the predicted value of particular datapoint\")\n",
        "\n",
        "print(\"\\n\" + \"The actual value of x_test[0] is=\" + \" \" + str(y_test[0]))\n",
        "\n",
        "print(\"\\n\" + \".  --> Everything seems OK\")"
      ],
      "execution_count": 0,
      "outputs": []
    },
    {
      "cell_type": "code",
      "metadata": {
        "id": "wb3xCzZGS3TY",
        "colab_type": "code",
        "colab": {}
      },
      "source": [
        "model.save(\"first_classification_with_keras\")"
      ],
      "execution_count": 0,
      "outputs": []
    }
  ]
}