{
  "nbformat": 4,
  "nbformat_minor": 0,
  "metadata": {
    "colab": {
      "name": "CNN_Autoencoder.ipynb",
      "provenance": [],
      "collapsed_sections": [],
      "authorship_tag": "ABX9TyMMTRcErMbyNwQX34BngvJO",
      "include_colab_link": true
    },
    "kernelspec": {
      "name": "python3",
      "display_name": "Python 3"
    },
    "accelerator": "GPU"
  },
  "cells": [
    {
      "cell_type": "markdown",
      "metadata": {
        "id": "view-in-github",
        "colab_type": "text"
      },
      "source": [
        "<a href=\"https://colab.research.google.com/github/eermis1/Data_Science_Repository/blob/master/Auto-Encoders/CNN_Autoencoder.ipynb\" target=\"_parent\"><img src=\"https://colab.research.google.com/assets/colab-badge.svg\" alt=\"Open In Colab\"/></a>"
      ]
    },
    {
      "cell_type": "markdown",
      "metadata": {
        "id": "E4NIP7Mmocfi",
        "colab_type": "text"
      },
      "source": [
        "# **Convolutional Neural Network Autoencoder Application**\n",
        "*A MNIST CNN Autoencoder Application with Keras by Evren Ermiş for BOUN SWE.591 (29-Apr-2020)*"
      ]
    },
    {
      "cell_type": "markdown",
      "metadata": {
        "id": "i3tuhMispW9p",
        "colab_type": "text"
      },
      "source": [
        "## **1. Import Required Libraries**"
      ]
    },
    {
      "cell_type": "code",
      "metadata": {
        "id": "YlCsfM2bXMb5",
        "colab_type": "code",
        "outputId": "47121839-861d-43d3-8207-ace7c547885f",
        "colab": {
          "base_uri": "https://localhost:8080/",
          "height": 68
        }
      },
      "source": [
        "%tensorflow_version 1.x\n",
        "import tensorflow as tf\n",
        "import numpy as np\n",
        "import pandas as pd\n",
        "import matplotlib.pyplot as plt\n",
        "from tensorflow.keras import datasets, layers, models\n",
        "from keras.layers import Input, Dense, Conv2D, MaxPooling2D, UpSampling2D, Flatten\n",
        "from keras import initializers\n",
        "from keras.models import Model\n",
        "from keras import backend as K\n",
        "from keras import losses\n",
        "from sklearn.manifold import TSNE\n",
        "print(tf.__version__)"
      ],
      "execution_count": 0,
      "outputs": [
        {
          "output_type": "stream",
          "text": [
            "TensorFlow 1.x selected.\n"
          ],
          "name": "stdout"
        },
        {
          "output_type": "stream",
          "text": [
            "Using TensorFlow backend.\n"
          ],
          "name": "stderr"
        },
        {
          "output_type": "stream",
          "text": [
            "1.15.2\n"
          ],
          "name": "stdout"
        }
      ]
    },
    {
      "cell_type": "markdown",
      "metadata": {
        "id": "9zTdyBp2pcHv",
        "colab_type": "text"
      },
      "source": [
        "## **2. Extract and Evaluate Data**"
      ]
    },
    {
      "cell_type": "code",
      "metadata": {
        "id": "qi0S3qOGc1uq",
        "colab_type": "code",
        "outputId": "a99823c3-6216-4015-e406-bc91126b712e",
        "colab": {
          "base_uri": "https://localhost:8080/",
          "height": 51
        }
      },
      "source": [
        "# Exract data from MNIST dataset.\n",
        "\n",
        "mnist = tf.keras.datasets.mnist\n",
        "(x_train, y_train), (x_test, y_test) = mnist.load_data()"
      ],
      "execution_count": 0,
      "outputs": [
        {
          "output_type": "stream",
          "text": [
            "Downloading data from https://storage.googleapis.com/tensorflow/tf-keras-datasets/mnist.npz\n",
            "11493376/11490434 [==============================] - 0s 0us/step\n"
          ],
          "name": "stdout"
        }
      ]
    },
    {
      "cell_type": "code",
      "metadata": {
        "id": "Ihxe-vP8c1oW",
        "colab_type": "code",
        "outputId": "939181db-ae3f-4e44-d93a-963da7d43c37",
        "colab": {
          "base_uri": "https://localhost:8080/",
          "height": 469
        }
      },
      "source": [
        "# Evaluate dataset\n",
        "\n",
        "print(\"Shape of x_train =\" + \" \" + str(x_train.shape))\n",
        "print(\"Shape of x_test =\" + \" \" + str(x_test.shape))\n",
        "\n",
        "print(\"\\n\" + \"Now, lets have a look at a particular data in training set\" +\"\\n\")\n",
        "\n",
        "print(\"Max pixel data of x_train[0]=\" + \" \" + str(x_train[0].max()))\n",
        "print(\"Min pixel data of x_train[0]=\" + \" \" + str(x_train[0].min()) + \"\\n\")\n",
        "print(\".  --> As you seen as above, the pixel data is not in a range between 0 and 1 (grayscale)\")\n",
        "print(\".  --> To improve the the performance, make it easy to learn for network it is better to normalize them.\" + \"\\n\")\n",
        "\n",
        "print(\".  --> Just an illusration\")\n",
        "plt.imshow(x_train[0], cmap='gray')\n",
        "plt.show()"
      ],
      "execution_count": 0,
      "outputs": [
        {
          "output_type": "stream",
          "text": [
            "Shape of x_train = (60000, 28, 28)\n",
            "Shape of x_test = (10000, 28, 28)\n",
            "\n",
            "Now, lets have a look at a particular data in training set\n",
            "\n",
            "Max pixel data of x_train[0]= 255\n",
            "Min pixel data of x_train[0]= 0\n",
            "\n",
            ".  --> As you seen as above, the pixel data is not in a range between 0 and 1 (grayscale)\n",
            ".  --> To improve the the performance, make it easy to learn for network it is better to normalize them.\n",
            "\n",
            ".  --> Just an illusration\n"
          ],
          "name": "stdout"
        },
        {
          "output_type": "display_data",
          "data": {
            "image/png": "[encoded data removed]",
            "text/plain": [
              "<Figure size 432x288 with 1 Axes>"
            ]
          },
          "metadata": {
            "tags": [],
            "needs_background": "light"
          }
        }
      ]
    },
    {
      "cell_type": "code",
      "metadata": {
        "id": "BIJWfEMGdMHc",
        "colab_type": "code",
        "outputId": "71ae3275-a9cf-4590-f85d-d477031c9192",
        "colab": {
          "base_uri": "https://localhost:8080/",
          "height": 51
        }
      },
      "source": [
        "# Normalization of x_train, x_test (makin the pixel values between 0 and 1\n",
        "\n",
        "x_train = tf.keras.utils.normalize(x_train, axis=1)\n",
        "x_test = tf.keras.utils.normalize(x_test, axis=1)\n",
        "\n",
        "# Reshape the x_train and x_test data to make them proper to be an input for CNN\n",
        "\n",
        "x_train = np.reshape(x_train, (len(x_train), 28, 28, 1))  \n",
        "x_test = np.reshape(x_test, (len(x_test), 28, 28, 1)) \n",
        "\n",
        "# Check whether is everything OK\n",
        "print(\"Shape of x_train =\" + \" \" + str(x_train.shape))\n",
        "print(\"Shape of x_test =\" + \" \" + str(x_test.shape))\n",
        "\n",
        "#x_train[0] Process is completed "
      ],
      "execution_count": 0,
      "outputs": [
        {
          "output_type": "stream",
          "text": [
            "Shape of x_train = (60000, 28, 28, 1)\n",
            "Shape of x_test = (10000, 28, 28, 1)\n"
          ],
          "name": "stdout"
        }
      ]
    },
    {
      "cell_type": "markdown",
      "metadata": {
        "id": "Ivxh6FTVdnU_",
        "colab_type": "text"
      },
      "source": [
        "## **3. Building the Model**"
      ]
    },
    {
      "cell_type": "code",
      "metadata": {
        "id": "YO1TDxEzVGZO",
        "colab_type": "code",
        "outputId": "9cf8c509-ad69-4160-ebeb-4874236e3aa7",
        "colab": {
          "base_uri": "https://localhost:8080/",
          "height": 564
        }
      },
      "source": [
        "# Input\n",
        "input_img = Input(shape=(28, 28, 1)) \n",
        "\n",
        "# 1st Convolutional Layer - Encoder\n",
        "x = Conv2D(16, (3, 3), activation='relu', kernel_initializer = initializers.glorot_uniform(seed=2), padding='same')(input_img)\n",
        "x = MaxPooling2D((2, 2), padding='same')(x)\n",
        "\n",
        "# 2nd Convolutional Layer - Encoder\n",
        "x = Conv2D(8, (3, 3), activation='relu', kernel_initializer = initializers.glorot_uniform(seed=2), padding='same')(x)\n",
        "x = MaxPooling2D((2, 2), padding='same')(x)\n",
        "\n",
        "# Flatten CovNet Output to be able to Use for FCN\n",
        "x = Flatten()(x)\n",
        "\n",
        "# 1st FCN Layer - Encoded Version - Embeddings Created\n",
        "encoded = Dense(20, activation=\"sigmoid\", kernel_initializer = initializers.glorot_uniform(seed=2),name=\"encoded\")(x)\n",
        "\n",
        "# 2nd FCN Layer - Decoder\n",
        "x = Dense(400, activation=\"relu\", kernel_initializer = initializers.glorot_uniform(seed=2))(encoded)\n",
        "\n",
        "# 3rd FCN Layer - Encoded Version - Final Output\n",
        "decoded = Dense(784, activation=\"sigmoid\", kernel_initializer = initializers.glorot_uniform(seed=2),name=\"decoded\")(x)\n",
        "\n",
        "# Overall Model\n",
        "autoencoder = Model(input_img, decoded)\n",
        "\n",
        "# See how is the dimensionality\n",
        "autoencoder.summary()\n"
      ],
      "execution_count": 0,
      "outputs": [
        {
          "output_type": "stream",
          "text": [
            "WARNING:tensorflow:From /tensorflow-1.15.2/python3.6/tensorflow_core/python/ops/resource_variable_ops.py:1630: calling BaseResourceVariable.__init__ (from tensorflow.python.ops.resource_variable_ops) with constraint is deprecated and will be removed in a future version.\n",
            "Instructions for updating:\n",
            "If using Keras pass *_constraint arguments to layers.\n",
            "WARNING:tensorflow:From /usr/local/lib/python3.6/dist-packages/keras/backend/tensorflow_backend.py:4070: The name tf.nn.max_pool is deprecated. Please use tf.nn.max_pool2d instead.\n",
            "\n",
            "Model: \"model_1\"\n",
            "_________________________________________________________________\n",
            "Layer (type)                 Output Shape              Param #   \n",
            "=================================================================\n",
            "input_1 (InputLayer)         (None, 28, 28, 1)         0         \n",
            "_________________________________________________________________\n",
            "conv2d_1 (Conv2D)            (None, 28, 28, 16)        160       \n",
            "_________________________________________________________________\n",
            "max_pooling2d_1 (MaxPooling2 (None, 14, 14, 16)        0         \n",
            "_________________________________________________________________\n",
            "conv2d_2 (Conv2D)            (None, 14, 14, 8)         1160      \n",
            "_________________________________________________________________\n",
            "max_pooling2d_2 (MaxPooling2 (None, 7, 7, 8)           0         \n",
            "_________________________________________________________________\n",
            "flatten_1 (Flatten)          (None, 392)               0         \n",
            "_________________________________________________________________\n",
            "encoded (Dense)              (None, 20)                7860      \n",
            "_________________________________________________________________\n",
            "dense_1 (Dense)              (None, 400)               8400      \n",
            "_________________________________________________________________\n",
            "decoded (Dense)              (None, 784)               314384    \n",
            "=================================================================\n",
            "Total params: 331,964\n",
            "Trainable params: 331,964\n",
            "Non-trainable params: 0\n",
            "_________________________________________________________________\n"
          ],
          "name": "stdout"
        }
      ]
    },
    {
      "cell_type": "markdown",
      "metadata": {
        "id": "a1KDdy350RMz",
        "colab_type": "text"
      },
      "source": [
        "As seen above,\n",
        "\n",
        "*   Input Shape: (None, 28, 28, 1) \n",
        "*   Output Shape: (None, 784) - Flat\n",
        "\n",
        "> **If we keep them as it is, we could not be able to calculate loss function since the input and output shapes are not equal**\n",
        "\n",
        "> **To overcome this obstacle, we are going to define new variables called \"train_originals\" and \"test_originals\". which are going to be reshaped versions of x_train and x_test**\n",
        "\n",
        "\n"
      ]
    },
    {
      "cell_type": "code",
      "metadata": {
        "id": "vZyWurGFfCRL",
        "colab_type": "code",
        "outputId": "111d2469-f290-48f0-aa58-a0e04fd8e4ee",
        "colab": {
          "base_uri": "https://localhost:8080/",
          "height": 34
        }
      },
      "source": [
        "train_originals = x_train.reshape([len(x_train), 784])\n",
        "train_originals.shape"
      ],
      "execution_count": 0,
      "outputs": [
        {
          "output_type": "execute_result",
          "data": {
            "text/plain": [
              "(60000, 784)"
            ]
          },
          "metadata": {
            "tags": []
          },
          "execution_count": 6
        }
      ]
    },
    {
      "cell_type": "code",
      "metadata": {
        "id": "r1HVc0nUfYLw",
        "colab_type": "code",
        "outputId": "13b47272-bc71-4c9a-b765-02dfadfbc3c5",
        "colab": {
          "base_uri": "https://localhost:8080/",
          "height": 34
        }
      },
      "source": [
        "test_originals = x_test.reshape([len(x_test), 784])\n",
        "test_originals.shape"
      ],
      "execution_count": 0,
      "outputs": [
        {
          "output_type": "execute_result",
          "data": {
            "text/plain": [
              "(10000, 784)"
            ]
          },
          "metadata": {
            "tags": []
          },
          "execution_count": 7
        }
      ]
    },
    {
      "cell_type": "code",
      "metadata": {
        "id": "ZIwnQ7hfZ2Y_",
        "colab_type": "code",
        "outputId": "2d90dd6d-8ff6-43c6-8bff-43876045a206",
        "colab": {
          "base_uri": "https://localhost:8080/",
          "height": 445
        }
      },
      "source": [
        "autoencoder.compile(optimizer='adam', loss=losses.mean_squared_error)\n",
        "\n",
        "autoencoder.fit(x_train, train_originals, epochs=10, batch_size=28,\n",
        "                shuffle=True,\n",
        "                validation_data=(x_test, test_originals))"
      ],
      "execution_count": 0,
      "outputs": [
        {
          "output_type": "stream",
          "text": [
            "WARNING:tensorflow:From /usr/local/lib/python3.6/dist-packages/keras/backend/tensorflow_backend.py:422: The name tf.global_variables is deprecated. Please use tf.compat.v1.global_variables instead.\n",
            "\n",
            "Train on 60000 samples, validate on 10000 samples\n",
            "Epoch 1/10\n",
            "60000/60000 [==============================] - 15s 249us/step - loss: 0.0117 - val_loss: 0.0074\n",
            "Epoch 2/10\n",
            "60000/60000 [==============================] - 9s 143us/step - loss: 0.0067 - val_loss: 0.0058\n",
            "Epoch 3/10\n",
            "60000/60000 [==============================] - 9s 145us/step - loss: 0.0053 - val_loss: 0.0047\n",
            "Epoch 4/10\n",
            "60000/60000 [==============================] - 9s 144us/step - loss: 0.0044 - val_loss: 0.0040\n",
            "Epoch 5/10\n",
            "60000/60000 [==============================] - 9s 145us/step - loss: 0.0039 - val_loss: 0.0036\n",
            "Epoch 6/10\n",
            "60000/60000 [==============================] - 9s 144us/step - loss: 0.0036 - val_loss: 0.0034\n",
            "Epoch 7/10\n",
            "60000/60000 [==============================] - 9s 145us/step - loss: 0.0034 - val_loss: 0.0032\n",
            "Epoch 8/10\n",
            "60000/60000 [==============================] - 9s 149us/step - loss: 0.0032 - val_loss: 0.0031\n",
            "Epoch 9/10\n",
            "60000/60000 [==============================] - 9s 145us/step - loss: 0.0031 - val_loss: 0.0030\n",
            "Epoch 10/10\n",
            "60000/60000 [==============================] - 9s 144us/step - loss: 0.0030 - val_loss: 0.0029\n"
          ],
          "name": "stdout"
        },
        {
          "output_type": "execute_result",
          "data": {
            "text/plain": [
              "<keras.callbacks.callbacks.History at 0x7fddf535c6a0>"
            ]
          },
          "metadata": {
            "tags": []
          },
          "execution_count": 8
        }
      ]
    },
    {
      "cell_type": "code",
      "metadata": {
        "id": "14OsgylG3zzF",
        "colab_type": "code",
        "outputId": "159c6929-573d-499d-fbc4-8091e8eb3bdf",
        "colab": {
          "base_uri": "https://localhost:8080/",
          "height": 34
        }
      },
      "source": [
        "test_loss = autoencoder.evaluate(x_test, test_originals)"
      ],
      "execution_count": 0,
      "outputs": [
        {
          "output_type": "stream",
          "text": [
            "10000/10000 [==============================] - 0s 50us/step\n"
          ],
          "name": "stdout"
        }
      ]
    },
    {
      "cell_type": "code",
      "metadata": {
        "id": "PdxCA1H74KXR",
        "colab_type": "code",
        "outputId": "5c330ccf-cb7d-48c3-e3e7-36ef967656ab",
        "colab": {
          "base_uri": "https://localhost:8080/",
          "height": 34
        }
      },
      "source": [
        "print(\"The test loss is\" + \" \" + str(round(test_loss,5)))"
      ],
      "execution_count": 0,
      "outputs": [
        {
          "output_type": "stream",
          "text": [
            "The test loss is 0.0029\n"
          ],
          "name": "stdout"
        }
      ]
    },
    {
      "cell_type": "code",
      "metadata": {
        "id": "56qUxsjZfwe7",
        "colab_type": "code",
        "outputId": "666e8194-a883-40f7-9223-74df25522d8f",
        "colab": {
          "base_uri": "https://localhost:8080/",
          "height": 34
        }
      },
      "source": [
        "# Getting Predictions & Evaluation\n",
        "\n",
        "predictions  = autoencoder.predict(x_test)\n",
        "predictions.shape"
      ],
      "execution_count": 0,
      "outputs": [
        {
          "output_type": "execute_result",
          "data": {
            "text/plain": [
              "(10000, 784)"
            ]
          },
          "metadata": {
            "tags": []
          },
          "execution_count": 11
        }
      ]
    },
    {
      "cell_type": "code",
      "metadata": {
        "id": "XRYIkilOgEbC",
        "colab_type": "code",
        "outputId": "f256c01b-f925-46d9-9229-e39ff89521cd",
        "colab": {
          "base_uri": "https://localhost:8080/",
          "height": 304
        }
      },
      "source": [
        "# Another Evaluation - Continue\n",
        "\n",
        "plt.figure(figsize=(10, 10))\n",
        "\n",
        "# Original Data\n",
        "ax = plt.subplot(1, 2, 1)\n",
        "plt.imshow(x_test[0].reshape(28, 28))\n",
        "plt.gray()\n",
        "ax.set_title('Original Data')\n",
        "ax.get_xaxis().set_visible(False)\n",
        "ax.get_yaxis().set_visible(False)\n",
        "\n",
        "# Reconstructed Data\n",
        "ax = plt.subplot(1, 2, 2)\n",
        "plt.imshow(predictions[0].reshape(28, 28))\n",
        "plt.gray()\n",
        "ax.set_title('Reconstructed Data')\n",
        "ax.get_xaxis().set_visible(False)\n",
        "ax.get_yaxis().set_visible(False)\n"
      ],
      "execution_count": 0,
      "outputs": [
        {
          "output_type": "display_data",
          "data": {
            "image/png": "[encoded data removed]",
            "text/plain": [
              "<Figure size 720x720 with 2 Axes>"
            ]
          },
          "metadata": {
            "tags": [],
            "needs_background": "light"
          }
        }
      ]
    },
    {
      "cell_type": "markdown",
      "metadata": {
        "id": "0vCfPlB66n-D",
        "colab_type": "text"
      },
      "source": [
        "## **4. Task-3 | tSNE Mapping**"
      ]
    },
    {
      "cell_type": "code",
      "metadata": {
        "id": "hv5Fw9lr7ONW",
        "colab_type": "code",
        "outputId": "1dc994c7-e5ba-40e4-f67c-805449986f2b",
        "colab": {
          "base_uri": "https://localhost:8080/",
          "height": 34
        }
      },
      "source": [
        "# Get Data from Layer - Encoded/Embeddings\n",
        "# https://keras.io/getting-started/faq/#how-can-i-obtain-the-output-of-an-intermediate-layer\n",
        "\n",
        "intermediate_layer_model = Model(inputs=autoencoder.input,\n",
        "                                 outputs=autoencoder.get_layer(\"encoded\").output)\n",
        "embeddings = intermediate_layer_model.predict(x_test)\n",
        "embeddings.shape"
      ],
      "execution_count": 0,
      "outputs": [
        {
          "output_type": "execute_result",
          "data": {
            "text/plain": [
              "(10000, 20)"
            ]
          },
          "metadata": {
            "tags": []
          },
          "execution_count": 13
        }
      ]
    },
    {
      "cell_type": "code",
      "metadata": {
        "id": "sqWY0VKd_4UC",
        "colab_type": "code",
        "colab": {}
      },
      "source": [
        "# Transform the x_test and encoded data by using t-SNE\n",
        "# https://scikit-learn.org/stable/modules/generated/sklearn.manifold.TSNE.html\n",
        "\n",
        "tranformed_test_embeddings = TSNE(n_components=2).fit_transform(embeddings)\n",
        "tranformed_test_originals = TSNE(n_components=2).fit_transform(test_originals)"
      ],
      "execution_count": 0,
      "outputs": []
    },
    {
      "cell_type": "code",
      "metadata": {
        "id": "ov6rv_HjFPet",
        "colab_type": "code",
        "outputId": "e576c507-2d62-45e9-facb-c6367aa80ff5",
        "colab": {
          "base_uri": "https://localhost:8080/",
          "height": 51
        }
      },
      "source": [
        "print(\"tranformed_test_embeddings shape is=\" + \" \" + str(tranformed_test_embeddings.shape))\n",
        "print(\"tranformed_test_originals shape is=\" + \" \" + str(tranformed_test_originals.shape))"
      ],
      "execution_count": 0,
      "outputs": [
        {
          "output_type": "stream",
          "text": [
            "tranformed_test_embeddings shape is= (10000, 2)\n",
            "tranformed_test_originals shape is= (10000, 2)\n"
          ],
          "name": "stdout"
        }
      ]
    },
    {
      "cell_type": "code",
      "metadata": {
        "id": "vb0_B7iBGzPT",
        "colab_type": "code",
        "outputId": "f78536d8-6784-4d2b-c2b3-65a5baf089f9",
        "colab": {
          "base_uri": "https://localhost:8080/",
          "height": 204
        }
      },
      "source": [
        "# Test Embeddings Data Preparations\n",
        "\n",
        "# Getting Labels from y_test\n",
        "array = []\n",
        "for i in range(len(y_test)):\n",
        "  array.append(y_test[i])\n",
        "array = np.asarray(array)\n",
        "\n",
        "# Gathering Them into Pandas DF\n",
        "df_embed = pd.DataFrame(tranformed_test_embeddings, columns={\"dim1\", \"dim2\"})\n",
        "df_embed[\"labels\"] = array\n",
        "df_embed.head()"
      ],
      "execution_count": 0,
      "outputs": [
        {
          "output_type": "execute_result",
          "data": {
            "text/html": [
              "<div>\n",
              "<style scoped>\n",
              "    .dataframe tbody tr th:only-of-type {\n",
              "        vertical-align: middle;\n",
              "    }\n",
              "\n",
              "    .dataframe tbody tr th {\n",
              "        vertical-align: top;\n",
              "    }\n",
              "\n",
              "    .dataframe thead th {\n",
              "        text-align: right;\n",
              "    }\n",
              "</style>\n",
              "<table border=\"1\" class=\"dataframe\">\n",
              "  <thead>\n",
              "    <tr style=\"text-align: right;\">\n",
              "      <th></th>\n",
              "      <th>dim2</th>\n",
              "      <th>dim1</th>\n",
              "      <th>labels</th>\n",
              "    </tr>\n",
              "  </thead>\n",
              "  <tbody>\n",
              "    <tr>\n",
              "      <th>0</th>\n",
              "      <td>-49.554127</td>\n",
              "      <td>-33.946960</td>\n",
              "      <td>7</td>\n",
              "    </tr>\n",
              "    <tr>\n",
              "      <th>1</th>\n",
              "      <td>29.177824</td>\n",
              "      <td>-16.270741</td>\n",
              "      <td>2</td>\n",
              "    </tr>\n",
              "    <tr>\n",
              "      <th>2</th>\n",
              "      <td>-70.756287</td>\n",
              "      <td>21.483406</td>\n",
              "      <td>1</td>\n",
              "    </tr>\n",
              "    <tr>\n",
              "      <th>3</th>\n",
              "      <td>50.191990</td>\n",
              "      <td>18.409851</td>\n",
              "      <td>0</td>\n",
              "    </tr>\n",
              "    <tr>\n",
              "      <th>4</th>\n",
              "      <td>14.716804</td>\n",
              "      <td>-61.908344</td>\n",
              "      <td>4</td>\n",
              "    </tr>\n",
              "  </tbody>\n",
              "</table>\n",
              "</div>"
            ],
            "text/plain": [
              "        dim2       dim1  labels\n",
              "0 -49.554127 -33.946960       7\n",
              "1  29.177824 -16.270741       2\n",
              "2 -70.756287  21.483406       1\n",
              "3  50.191990  18.409851       0\n",
              "4  14.716804 -61.908344       4"
            ]
          },
          "metadata": {
            "tags": []
          },
          "execution_count": 16
        }
      ]
    },
    {
      "cell_type": "code",
      "metadata": {
        "id": "VkPYvt3VHQg4",
        "colab_type": "code",
        "outputId": "9ab70490-5d74-4feb-ed7b-1c22c1f22a46",
        "colab": {
          "base_uri": "https://localhost:8080/",
          "height": 204
        }
      },
      "source": [
        "# Original Test Data Preparations\n",
        "\n",
        "# Getting Labels from y_test\n",
        "array_2 = []\n",
        "for i in range(len(y_test)):\n",
        "  array_2.append(y_test[i])\n",
        "array_2 = np.asarray(array_2)\n",
        "\n",
        "# Gathering Them into Pandas DF\n",
        "df_orj = pd.DataFrame(tranformed_test_originals, columns={\"dim1\",\"dim2\"})\n",
        "df_orj[\"labels\"] = array_2\n",
        "df_orj.head()"
      ],
      "execution_count": 0,
      "outputs": [
        {
          "output_type": "execute_result",
          "data": {
            "text/html": [
              "<div>\n",
              "<style scoped>\n",
              "    .dataframe tbody tr th:only-of-type {\n",
              "        vertical-align: middle;\n",
              "    }\n",
              "\n",
              "    .dataframe tbody tr th {\n",
              "        vertical-align: top;\n",
              "    }\n",
              "\n",
              "    .dataframe thead th {\n",
              "        text-align: right;\n",
              "    }\n",
              "</style>\n",
              "<table border=\"1\" class=\"dataframe\">\n",
              "  <thead>\n",
              "    <tr style=\"text-align: right;\">\n",
              "      <th></th>\n",
              "      <th>dim2</th>\n",
              "      <th>dim1</th>\n",
              "      <th>labels</th>\n",
              "    </tr>\n",
              "  </thead>\n",
              "  <tbody>\n",
              "    <tr>\n",
              "      <th>0</th>\n",
              "      <td>42.013985</td>\n",
              "      <td>-38.298233</td>\n",
              "      <td>7</td>\n",
              "    </tr>\n",
              "    <tr>\n",
              "      <th>1</th>\n",
              "      <td>-64.004189</td>\n",
              "      <td>-28.319298</td>\n",
              "      <td>2</td>\n",
              "    </tr>\n",
              "    <tr>\n",
              "      <th>2</th>\n",
              "      <td>-16.128977</td>\n",
              "      <td>-64.684746</td>\n",
              "      <td>1</td>\n",
              "    </tr>\n",
              "    <tr>\n",
              "      <th>3</th>\n",
              "      <td>-32.597301</td>\n",
              "      <td>41.164841</td>\n",
              "      <td>0</td>\n",
              "    </tr>\n",
              "    <tr>\n",
              "      <th>4</th>\n",
              "      <td>57.574371</td>\n",
              "      <td>43.232231</td>\n",
              "      <td>4</td>\n",
              "    </tr>\n",
              "  </tbody>\n",
              "</table>\n",
              "</div>"
            ],
            "text/plain": [
              "        dim2       dim1  labels\n",
              "0  42.013985 -38.298233       7\n",
              "1 -64.004189 -28.319298       2\n",
              "2 -16.128977 -64.684746       1\n",
              "3 -32.597301  41.164841       0\n",
              "4  57.574371  43.232231       4"
            ]
          },
          "metadata": {
            "tags": []
          },
          "execution_count": 17
        }
      ]
    },
    {
      "cell_type": "code",
      "metadata": {
        "id": "Bsbk3FWeMHTL",
        "colab_type": "code",
        "outputId": "1c4d6144-2efa-42d1-e9b3-edd5a6382d4f",
        "colab": {
          "base_uri": "https://localhost:8080/",
          "height": 633
        }
      },
      "source": [
        "# Plotting the Scatter Plots\n",
        "ax1 = df_embed.plot.scatter(x='dim1',\n",
        "                            y='dim2',\n",
        "                            c='labels',\n",
        "                            title=\"Test Embeddings Scatter Plot\",\n",
        "                            figsize=(7,5),\n",
        "                            colormap='Paired')\n",
        "\n",
        "ax2 = df_orj.plot.scatter(x='dim1',\n",
        "                      y='dim2',\n",
        "                      c='labels',\n",
        "                      title=\"Test Data Scatter Plot\",\n",
        "                      figsize=(7,5),\n",
        "                      colormap='Paired')\n",
        "\n"
      ],
      "execution_count": 0,
      "outputs": [
        {
          "output_type": "display_data",
          "data": {
            "image/png": "[encoded data removed]",
            "text/plain": [
              "<Figure size 504x360 with 2 Axes>"
            ]
          },
          "metadata": {
            "tags": [],
            "needs_background": "light"
          }
        },
        {
          "output_type": "display_data",
          "data": {
            "image/png": "[encoded data removed]",
            "text/plain": [
              "<Figure size 504x360 with 2 Axes>"
            ]
          },
          "metadata": {
            "tags": [],
            "needs_background": "light"
          }
        }
      ]
    },
    {
      "cell_type": "markdown",
      "metadata": {
        "id": "qM9VdAKjThc6",
        "colab_type": "text"
      },
      "source": [
        "## **5. Task-4 | Comparison of Original Image and Reconstructed Image**"
      ]
    },
    {
      "cell_type": "code",
      "metadata": {
        "id": "agrfHSdHUL1y",
        "colab_type": "code",
        "outputId": "55073fe7-7834-4764-e4fe-5106b728090a",
        "colab": {
          "base_uri": "https://localhost:8080/",
          "height": 252
        }
      },
      "source": [
        "plt.figure(figsize=(12, 4))\n",
        "for i in range(5): # Show 5 Images\n",
        "    # display original image\n",
        "    ax = plt.subplot(2, 5, i + 1)\n",
        "    plt.imshow(x_test[i].reshape(28, 28))\n",
        "    plt.gray()\n",
        "    ax.get_xaxis().set_visible(False)\n",
        "    ax.get_yaxis().set_visible(False)\n",
        "\n",
        "\n",
        "    # display reconstructed image\n",
        "    ax = plt.subplot(2, 5, i + 1 + 5)\n",
        "    plt.imshow(predictions[i].reshape(28, 28))\n",
        "    plt.gray()\n",
        "    ax.get_xaxis().set_visible(False)\n",
        "    ax.get_yaxis().set_visible(False)\n",
        "\n",
        "plt.show()"
      ],
      "execution_count": 0,
      "outputs": [
        {
          "output_type": "display_data",
          "data": {
            "image/png": "[encoded data removed]",
            "text/plain": [
              "<Figure size 864x288 with 10 Axes>"
            ]
          },
          "metadata": {
            "tags": [],
            "needs_background": "light"
          }
        }
      ]
    }
  ]
}